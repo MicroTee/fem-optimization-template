{
  "nbformat": 4,
  "nbformat_minor": 0,
  "metadata": {
    "colab": {
      "provenance": [],
      "authorship_tag": "ABX9TyMRgtZc1Ftc6K+F9S0NUXX/",
      "include_colab_link": true
    },
    "kernelspec": {
      "name": "python3",
      "display_name": "Python 3"
    },
    "language_info": {
      "name": "python"
    }
  },
  "cells": [
    {
      "cell_type": "markdown",
      "metadata": {
        "id": "view-in-github",
        "colab_type": "text"
      },
      "source": [
        "<a href=\"https://colab.research.google.com/github/MicroTee/fem-optimization-template/blob/main/%5BNCS%5D_project_buggy_TABU_SEARCH.ipynb\" target=\"_parent\"><img src=\"https://colab.research.google.com/assets/colab-badge.svg\" alt=\"Open In Colab\"/></a>"
      ]
    },
    {
      "cell_type": "markdown",
      "source": [
        "# **Getting Started**"
      ],
      "metadata": {
        "id": "lyVMwI1o716t"
      }
    },
    {
      "cell_type": "code",
      "execution_count": 198,
      "metadata": {
        "colab": {
          "base_uri": "https://localhost:8080/"
        },
        "id": "LAcr-HDh5SFl",
        "outputId": "0697323c-e77e-459f-ce13-7e2db0f7c790"
      },
      "outputs": [
        {
          "output_type": "stream",
          "name": "stdout",
          "text": [
            "Python 3.11.11\n"
          ]
        }
      ],
      "source": [
        "!python --version"
      ]
    },
    {
      "cell_type": "code",
      "source": [
        "# %%time\n",
        "# %%capture\n",
        "\n",
        "# # !pip install openseespy pyswarms\n",
        "# !pip install numba\n",
        "# !pip install SciencePlots==1.0.9"
      ],
      "metadata": {
        "id": "b_Y29mW67IhC"
      },
      "execution_count": 199,
      "outputs": []
    },
    {
      "cell_type": "code",
      "source": [
        "import numpy as np\n",
        "import pandas as pd\n",
        "# import seaborn as sns\n",
        "\n",
        "from numba import njit # decor chuyển mã Python sang mã máy\n",
        "from numba.typed import List # Tạo mảng động với Numba\n",
        "from numba import types as nbtypes # kiểu dữ liệu Numba\n",
        "\n",
        "# import openseespy.opensees as ops\n",
        "# from pyswarms import pso\n",
        "\n",
        "import math\n",
        "import random\n",
        "import time\n",
        "import matplotlib.pyplot as plt"
      ],
      "metadata": {
        "id": "U2iQnFVN8ZvV"
      },
      "execution_count": 200,
      "outputs": []
    },
    {
      "cell_type": "markdown",
      "source": [
        "**Start time counter**"
      ],
      "metadata": {
        "id": "r_Ax9fzIvjlG"
      }
    },
    {
      "cell_type": "code",
      "source": [
        "startTime = time.time()"
      ],
      "metadata": {
        "id": "3fwErscFvioH"
      },
      "execution_count": 201,
      "outputs": []
    },
    {
      "cell_type": "markdown",
      "source": [
        "# **Declaration of Input Data**"
      ],
      "metadata": {
        "id": "WXChpDho-WPD"
      }
    },
    {
      "cell_type": "markdown",
      "source": [
        "Khởi tạo"
      ],
      "metadata": {
        "id": "migauxh8a-_-"
      }
    },
    {
      "cell_type": "markdown",
      "source": [
        "Read data"
      ],
      "metadata": {
        "id": "4yoqxdn4FqQc"
      }
    },
    {
      "cell_type": "code",
      "source": [
        "def load_knapsack_data():\n",
        "    info_path = \"/content/knapPI_2_500_1000_1_info.csv\"\n",
        "    item_path = \"/content/knapPI_2_500_1000_1_items.csv\"\n",
        "\n",
        "    items_df = pd.read_csv(item_path, \\\n",
        "                           header=0)\n",
        "    info_df = pd.read_csv(info_path, \\\n",
        "                          header=None)\n",
        "    values = items_df[\" price\"].to_numpy()\n",
        "    weights = items_df[\" weight\"].to_numpy()\n",
        "    answer_solution = items_df[\" sol\"].to_numpy()\n",
        "    N = info_df.iloc[0,1] # số món đồ\n",
        "    capacity = info_df.iloc[1,1] # sức chứa\n",
        "    answer_value = info_df.iloc[2,1] # lời giải\n",
        "\n",
        "    return N, weights, values, capacity, answer_solution, answer_value"
      ],
      "metadata": {
        "id": "pCc3VrKTFpTI"
      },
      "execution_count": 202,
      "outputs": []
    },
    {
      "cell_type": "code",
      "source": [
        "N, weights, values, capacity, answer_solution, answer_value = load_knapsack_data()\n",
        "\n",
        "# Cố định seed để kết quả tái hiện\n",
        "np.random.seed(0)\n",
        "\n",
        "# Số món đồ\n",
        "# N = 100\n",
        "\n",
        "# Sinh weights ngẫu nhiên trong khoảng [1, 20)\n",
        "# weights = np.random.randint(1, 20, size=N)\n",
        "\n",
        "# Sinh values ngẫu nhiên trong khoảng [1, 100)\n",
        "# values = np.random.randint(1, 100, size=N)\n",
        "\n",
        "# Đặt capacity bằng một nửa tổng trọng lượng\n",
        "# capacity = int(np.sum(weights) / 2)\n",
        "\n",
        "# vòng lặp tối đa\n",
        "max_interation = 1000\n",
        "\n",
        "# số lượt cấm\n",
        "tabu_tenure = 5\n",
        "\n",
        "no_move_counter = 0\n",
        "max_no_move = 10"
      ],
      "metadata": {
        "id": "6Pp_xdoja9o7"
      },
      "execution_count": 203,
      "outputs": []
    },
    {
      "cell_type": "markdown",
      "source": [
        "# **Declaration of Output Data**"
      ],
      "metadata": {
        "id": "-T7JgBw4-hQP"
      }
    },
    {
      "cell_type": "markdown",
      "source": [
        "# **Declaration of Function**"
      ],
      "metadata": {
        "id": "ju0oEYsD--Uo"
      }
    },
    {
      "cell_type": "markdown",
      "source": [
        "## **Hàm mục tiêu**"
      ],
      "metadata": {
        "id": "o_3k4-BnAYvK"
      }
    },
    {
      "cell_type": "markdown",
      "source": [
        "Trả về giá trị và trọng lượng"
      ],
      "metadata": {
        "id": "_yb984-DD0Z3"
      }
    },
    {
      "cell_type": "code",
      "source": [
        "@njit\n",
        "def evaluate_knapsack(solution, weights, values, capacity):\n",
        "    \"\"\"\n",
        "        Hàm tính tổng giá trị và trọng lượng của nghiệm:\n",
        "        - solution: mảng nhị phân biểu thị món đồ được chọn\n",
        "        - weights, values: mảng trọng lượng, giá trị tương ứng\n",
        "        - capacity: khối lượng tối đa có thể xếp\n",
        "        Trả về:\n",
        "        - total_value: tổng giá trị\n",
        "        - total_weight: tổng trọng lượng\n",
        "    \"\"\"\n",
        "\n",
        "    total_value = 0\n",
        "    total_weight = 0\n",
        "    n = len(solution)\n",
        "\n",
        "    for i in range(n):\n",
        "        if solution[i] == 1:\n",
        "            total_value += values[i]\n",
        "            total_weight += weights[i]\n",
        "\n",
        "    return total_value, total_weight\n"
      ],
      "metadata": {
        "id": "_PapaTlg-pWR"
      },
      "execution_count": 204,
      "outputs": []
    },
    {
      "cell_type": "markdown",
      "source": [
        "Khởi tạo"
      ],
      "metadata": {
        "id": "AZhdRXCZSJkr"
      }
    },
    {
      "cell_type": "code",
      "source": [
        "@njit\n",
        "def generate_initial_solution(weights, values, capacity):\n",
        "    \"\"\"\n",
        "    Hàm tạo nghiệm ban đầu:\n",
        "    - weights, values: mảng trọng lượng, giá trị tương ứng\n",
        "    - capacity: khối lượng tối đa có thể xếp\n",
        "    Trả về:\n",
        "    - solution: mảng nhị phân biểu thị món đồ được chọn\n",
        "    \"\"\"\n",
        "\n",
        "    n = len(weights)\n",
        "    solution = np.zeros(n, dtype=np.int32)\n",
        "\n",
        "    # Thêm món đồ ngẫu nhiên nếu còn dư sức chứa\n",
        "    indices = np.random.permutation(n)\n",
        "    total_weight = 0\n",
        "    for i in indices:\n",
        "        if total_weight + weights[i] <= capacity:\n",
        "            solution[i] = 1\n",
        "            total_weight += weights[i]\n",
        "            # thoát vòng lặp khi khi đạt khối lượng tối đa\n",
        "            if total_weight == capacity:\n",
        "                break\n",
        "\n",
        "    return solution"
      ],
      "metadata": {
        "id": "O3PX9o40_CAu"
      },
      "execution_count": 205,
      "outputs": []
    },
    {
      "cell_type": "markdown",
      "source": [
        "Tìm nghiệm lân cận"
      ],
      "metadata": {
        "id": "OVE105IEWtgG"
      }
    },
    {
      "cell_type": "code",
      "source": [
        "@njit\n",
        "def get_neighbors(solution, iteration):\n",
        "    \"\"\"\n",
        "    Hàm lấy tất cả các nghiệm lân cận hiện tại bằng cách lật 1 bit duy nhất\n",
        "    Hàm tìm các nghiệm lân cận:\n",
        "    - solution: mảng nhị phân biểu thị món đồ được chọn\n",
        "    Trả về:\n",
        "    - neighbors: danh sách các nghiệm lân cận\n",
        "    \"\"\"\n",
        "\n",
        "    n = len(solution)\n",
        "    k = iteration\n",
        "    d = np.array([2,2,5,3])\n",
        "    # Sử dụng numba list\n",
        "    neighbors = List.empty_list(item_type=nbtypes.int32[:])\n",
        "    # mỗi phần tử là 1 vector (các bit lật)\n",
        "    flipped_bits_list = List.empty_list(nbtypes.int32[:])\n",
        "\n",
        "    if k % d[0] == 0:\n",
        "        for _ in range(int(n)):\n",
        "            neighbor = solution.copy()\n",
        "            # chọn 10 bits ngẫu nhiên để lật\n",
        "            bits = np.random.choice(n, d[0], replace=False)\n",
        "            for b in bits:\n",
        "                neighbor[b] = 1 - neighbor[b]\n",
        "            # Đưa vào List của numba: bits cần kiểu int32[:]\n",
        "            bits_array = bits.astype(np.int32)\n",
        "\n",
        "            flipped_bits_list.append(bits_array)\n",
        "            neighbors.append(neighbor)\n",
        "    # elif k % d[1] == 0:\n",
        "    #     for _ in range(int(n/d[1])):\n",
        "    #         neighbor = solution.copy()\n",
        "    #         # chọn 10 bits ngẫu nhiên để lật\n",
        "    #         bits = np.random.choice(n, d[1], replace=False)\n",
        "    #         for b in bits:\n",
        "    #             neighbor[b] = 1 - neighbor[b]\n",
        "    #         # Đưa vào List của numba: bits cần kiểu int32[:]\n",
        "    #         bits_array = bits.astype(np.int32)\n",
        "\n",
        "    #         flipped_bits_list.append(bits_array)\n",
        "    #         neighbors.append(neighbor)\n",
        "    else:\n",
        "        for i in range(n):\n",
        "            neighbor = solution.copy()\n",
        "            neighbor[i] = 1 - neighbor[i]\n",
        "\n",
        "            flipped_bits_list.append(np.array([i], dtype=np.int32))\n",
        "            neighbors.append(neighbor)\n",
        "\n",
        "    return neighbors, flipped_bits_list"
      ],
      "metadata": {
        "id": "7UVIxObJTBtE"
      },
      "execution_count": 206,
      "outputs": []
    },
    {
      "cell_type": "markdown",
      "source": [
        "## **Hàm ràng buộc**"
      ],
      "metadata": {
        "id": "WL2iEDauAiz-"
      }
    },
    {
      "cell_type": "markdown",
      "source": [
        "Ràng buộc về trọng lượng"
      ],
      "metadata": {
        "id": "x4T0VXe8CB88"
      }
    },
    {
      "cell_type": "code",
      "source": [
        "@njit\n",
        "def qualified_capacity(weight, capacity):\n",
        "    return weight <= capacity\n"
      ],
      "metadata": {
        "id": "qxo07DBKK5QH"
      },
      "execution_count": 207,
      "outputs": []
    },
    {
      "cell_type": "markdown",
      "source": [
        "Các ràng buộc về điều kiện biên trong miền tìm kiếm"
      ],
      "metadata": {
        "id": "tCF8EVp8CFVY"
      }
    },
    {
      "cell_type": "markdown",
      "source": [
        "Xấp xỉ"
      ],
      "metadata": {
        "id": "Wd-7Q8QZCsdv"
      }
    },
    {
      "cell_type": "markdown",
      "source": [
        "## **Hàm phân tính PP PTHH**"
      ],
      "metadata": {
        "id": "_936cUOHArQS"
      }
    },
    {
      "cell_type": "markdown",
      "source": [
        "## **Hàm Metaheuristic**"
      ],
      "metadata": {
        "id": "RYcRSKPVShKy"
      }
    },
    {
      "cell_type": "code",
      "source": [
        "@njit\n",
        "def tabu_search(weights, values, capacity, \\\n",
        "                max_interation, tabu_tenure, \\\n",
        "                no_move_counter, max_no_move):\n",
        "    \"\"\"\n",
        "    Hàm chính triển khai Tabu Search\n",
        "    Thực hiện Tabu Search cho bài toán 0-1 Knapsack.\n",
        "    - weights, values, capacity: dữ liệu bài toán\n",
        "    - max_iterations: số vòng lặp tối đa\n",
        "    - tabu_tenure: kích thước danh sách Tabu\n",
        "\n",
        "    Trả về: (best_solution, best_value)\n",
        "    \"\"\"\n",
        "\n",
        "    # 1. Khởi tạo\n",
        "    current_solution = generate_initial_solution(weights, values, capacity)\n",
        "    best_solution = current_solution.copy()\n",
        "    best_value, _ = evaluate_knapsack(best_solution, weights, values, capacity)\n",
        "\n",
        "    # Lưu tabu_list dưới dạng mảng của numba\n",
        "    # mô tả vị trí bit lật và thời điểm hết tabu\n",
        "    n = len(weights)\n",
        "    tabu_list = np.zeros(n, dtype=np.int32)\n",
        "\n",
        "    iteration = 0\n",
        "\n",
        "    # 2. Bắt đầu vòng lặp chính\n",
        "    while iteration < max_interation:\n",
        "        iteration += 1\n",
        "\n",
        "        # lấy danh sách nghiệm lân cận\n",
        "        neighbors, flipped_bits_list = get_neighbors(current_solution, iteration)\n",
        "\n",
        "        # tìm nghiệm lân cận tốt nhất hợp lệ\n",
        "        best_neighbor_value = -1\n",
        "        best_neighbor = None\n",
        "        best_neighbor_bits = None # theo dõi các bit lật\n",
        "\n",
        "        # đánh giá tất cả các nghiệm lân cận\n",
        "        for i, neighbor in enumerate(neighbors):\n",
        "            neighbor_value, neighbor_weight = \\\n",
        "                evaluate_knapsack(neighbor, weights, values, capacity)\n",
        "            # bit bị lật là i, do hàm get_neighbors lật từng bit theo thứ tự\n",
        "            bit_flipped = flipped_bits_list[i]\n",
        "\n",
        "            # kiểm tra ràng buộc\n",
        "            if not qualified_capacity(neighbor_weight, capacity):\n",
        "                continue # do không hợp lệ\n",
        "\n",
        "            # kiểm tra tabu: nếu bit_flipped vẫn đang bị cấm, ta bỏ qua\n",
        "            # trừ khi nghiệm này tốt hơn best solution toàn cục => aspiration\n",
        "            is_tabu = False\n",
        "            for bits in bit_flipped:\n",
        "                if tabu_list[bits] > iteration:\n",
        "                    # move này đang bị cấm, trừ khi asp cải thiện best_value\n",
        "                    if neighbor_value <= best_value:\n",
        "                        is_tabu = True\n",
        "                        break\n",
        "\n",
        "            if is_tabu:\n",
        "                continue # bỏ qua nghiệm này do bị cấm\n",
        "\n",
        "            # trường hợp từ đây trở xuống là hợp lệ\n",
        "            # trường hợp có giá trị cao hơn, cập nhật:\n",
        "            if neighbor_value > best_neighbor_value:\n",
        "                best_neighbor_value = neighbor_value\n",
        "                best_neighbor = neighbor\n",
        "                best_neighbor_bits = bit_flipped\n",
        "\n",
        "        # nếu không có nghiệm cải thiện:\n",
        "        if best_neighbor is None:\n",
        "            no_move_counter += 1\n",
        "            if no_move_counter >= max_no_move:\n",
        "                print(\"break at\", iteration)\n",
        "                break # khả năng xảy ra tuy ít, nhưng với bài toán \"cực đoan\"\n",
        "                # vẫn hoàn toàn xuất hiện\n",
        "            else:\n",
        "                # khởi tạo lại\n",
        "                current_solution = generate_initial_solution(weights, values, capacity)\n",
        "                # đánh giá lại\n",
        "                tmp_value, tmp_weight = evaluate_knapsack(current_solution, weights, values, capacity)\n",
        "                # cập nhật nghiệm tốt nhất nếu tìm thấy\n",
        "                if (tmp_value > best_value) and (qualified_capacity(tmp_weight, capacity)):\n",
        "                    best_value = tmp_value\n",
        "                    best_solution = current_solution.copy()\n",
        "                    no_move_counter = 0\n",
        "                # reset vì ta đã \"phá vỡ\" bế tắc bằng 1 nghiệm mới\n",
        "                no_move_counter = 0\n",
        "                continue\n",
        "        else:\n",
        "            current_solution = best_neighbor.copy()\n",
        "\n",
        "        # 3. Cập nhật nghiệm hiện tại\n",
        "        # đánh dấu move vừa thực hiện lên tabu list\n",
        "        for bit in best_neighbor_bits:\n",
        "                tabu_list[bit] = iteration + tabu_tenure\n",
        "\n",
        "        # cập nhật nghiệm tốt nhất nếu được\n",
        "        if best_neighbor_value > best_value:\n",
        "            best_value = best_neighbor_value\n",
        "            best_solution = best_neighbor.copy()\n",
        "            no_move_counter = 0\n",
        "\n",
        "    return best_solution, best_value\n"
      ],
      "metadata": {
        "id": "qFylxvVzaq7-"
      },
      "execution_count": 208,
      "outputs": []
    },
    {
      "cell_type": "markdown",
      "source": [
        "# **MAIN**"
      ],
      "metadata": {
        "id": "K2raYKceS1H5"
      }
    },
    {
      "cell_type": "code",
      "source": [
        "if __name__ == \"__main__\":\n",
        "\n",
        "    count = 0\n",
        "    max_value = 0\n",
        "    for i in range(30):\n",
        "        solution, value = tabu_search(weights, values, capacity, \\\n",
        "                                    max_interation, tabu_tenure, \\\n",
        "                                    no_move_counter, max_no_move)\n",
        "        if value > max_value:\n",
        "            max_value = value\n",
        "        print(f\"Best value: {value}. %: {value/answer_value*100:.2f}\")\n",
        "\n",
        "    print(f\"\\nMax value: {max_value}. %: {max_value/answer_value*100:.2f}\")\n",
        "    # print(\"Best solution found:\", solution)\n",
        "    # print(\"Best value:\", value)\n",
        "    # total_value, total_weight = evaluate_knapsack(solution, weights, values, capacity)\n",
        "    # print(\"Check -> Total weight:\", total_weight, \" <= Capacity:\", capacity)"
      ],
      "metadata": {
        "id": "3pqtcXsLS76C",
        "colab": {
          "base_uri": "https://localhost:8080/"
        },
        "outputId": "c6e8c624-9e73-40bd-b632-d56eed1ded76"
      },
      "execution_count": 209,
      "outputs": [
        {
          "output_type": "stream",
          "name": "stdout",
          "text": [
            "Best value: 4352. %: 95.31\n",
            "Best value: 4198. %: 91.94\n",
            "Best value: 4211. %: 92.23\n",
            "Best value: 4266. %: 93.43\n",
            "Best value: 4231. %: 92.66\n",
            "Best value: 4100. %: 89.79\n",
            "Best value: 4143. %: 90.74\n",
            "Best value: 4289. %: 93.93\n",
            "Best value: 4210. %: 92.20\n",
            "Best value: 4324. %: 94.70\n",
            "Best value: 4177. %: 91.48\n",
            "Best value: 4289. %: 93.93\n",
            "Best value: 4186. %: 91.68\n",
            "Best value: 4196. %: 91.90\n",
            "Best value: 4173. %: 91.39\n",
            "Best value: 4187. %: 91.70\n",
            "Best value: 4214. %: 92.29\n",
            "Best value: 4097. %: 89.73\n",
            "Best value: 4156. %: 91.02\n",
            "Best value: 4215. %: 92.31\n",
            "Best value: 4226. %: 92.55\n",
            "Best value: 4088. %: 89.53\n",
            "Best value: 4163. %: 91.17\n",
            "Best value: 4221. %: 92.44\n",
            "Best value: 4065. %: 89.03\n",
            "Best value: 4146. %: 90.80\n",
            "Best value: 4202. %: 92.03\n",
            "Best value: 4251. %: 93.10\n",
            "Best value: 4014. %: 87.91\n",
            "Best value: 4367. %: 95.64\n",
            "\n",
            "Max value: 4367. %: 95.64\n"
          ]
        }
      ]
    },
    {
      "cell_type": "markdown",
      "source": [
        "**Running time**"
      ],
      "metadata": {
        "id": "Bvao8ByGv0dC"
      }
    },
    {
      "cell_type": "code",
      "source": [
        "runningTime = time.time() - startTime\n",
        "print(f'Running time is {runningTime:.3f} seconds')"
      ],
      "metadata": {
        "id": "o2qFcP4CNUmo",
        "colab": {
          "base_uri": "https://localhost:8080/"
        },
        "outputId": "1a90af49-f151-45dc-af33-8e51d93be68f"
      },
      "execution_count": 210,
      "outputs": [
        {
          "output_type": "stream",
          "name": "stdout",
          "text": [
            "Running time is 170.130 seconds\n"
          ]
        }
      ]
    }
  ]
}